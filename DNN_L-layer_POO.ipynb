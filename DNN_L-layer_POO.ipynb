{
 "cells": [
  {
   "cell_type": "code",
   "execution_count": 43,
   "metadata": {},
   "outputs": [],
   "source": [
    "import numpy as np"
   ]
  },
  {
   "cell_type": "code",
   "execution_count": 155,
   "metadata": {},
   "outputs": [],
   "source": [
    "class CreateDataset:\n",
    "    \"\"\" create the 2 XOR datasets, X & Y, for the DNN model \"\"\"\n",
    "    \n",
    "    # create the entry dataset X\n",
    "    def create_X(self, X_size):\n",
    "        self.X = np.random.randint(2, size=(2, X_size))\n",
    "        return self.X\n",
    "    \n",
    "    # create the label dataset Y\n",
    "    def create_Y(self, X):\n",
    "        self.Y = np.sum(X, axis=0)\n",
    "        self.Y[self.Y != 1] = 0\n",
    "        return self.Y"
   ]
  },
  {
   "cell_type": "code",
   "execution_count": 156,
   "metadata": {},
   "outputs": [],
   "source": [
    "class ActivationFN:\n",
    "    \"\"\" define activation functions that will be needed in the DNN\"\"\"\n",
    "    \n",
    "    # sigmoid function and its derivative\n",
    "    def sigmoid(self, Z=None, A=None, derivative=False):\n",
    "        if derivative:\n",
    "            return A * (1 - A)\n",
    "        else:\n",
    "            return 1 / (1 + np.exp(-Z))\n",
    "        \n",
    "    # tanh function and its derivative\n",
    "    def tanh(self, Z=None, A=None, derivative=False):\n",
    "        if derivative:\n",
    "            return 1 - np.square(A)\n",
    "        else:\n",
    "            return (np.exp(Z) - np.exp(-Z)) / (np.exp(Z) + np.exp(-Z))\n",
    "    \n",
    "    # relu function and its derivative\n",
    "    def relu(self, Z, derivative=False):\n",
    "        if derivative:\n",
    "            return (Z > 0) * 1\n",
    "        else:\n",
    "            return (Z > 0) * Z"
   ]
  },
  {
   "cell_type": "code",
   "execution_count": 165,
   "metadata": {},
   "outputs": [],
   "source": [
    "class Layer:\n",
    "    \"\"\" initial class to initialize parameters and ??? \"\"\"\n",
    "    \n",
    "    # initialize parameters\n",
    "    def __init__(self, layer_b4, layer_after):\n",
    "        \n",
    "#         self.L = len(layer_dim)\n",
    "        \n",
    "#         for i in range(1, self.L):\n",
    "#         self.W = np.random.randn(layer_dim[i], layer_dim[i-1])\n",
    "#         self.b = np.zeros(layer_dim[i], 1)\n",
    "\n",
    "        self.W = np.random.randn(layer_after, layer_b4) * 0.01\n",
    "        self.b = np.zeros((layer_after, 1))\n",
    "        print(self.W)\n",
    "        print(self.b)\n",
    "    \n",
    "    # calculate forward pass: linear fn (Z = WX + b) and non-linear (A = g(Z))\n",
    "#     def forward_pass(self, X):\n",
    "#         self.Z = \n",
    "    "
   ]
  },
  {
   "cell_type": "code",
   "execution_count": 166,
   "metadata": {},
   "outputs": [
    {
     "name": "stdout",
     "output_type": "stream",
     "text": [
      "[[ 0.00358662 -0.01850868 -0.00114098]\n",
      " [ 0.00690415 -0.00860543 -0.00789455]\n",
      " [ 0.01557924  0.00708046 -0.01370354]\n",
      " [ 0.01362968 -0.0004657   0.01262541]]\n",
      "[[0.]\n",
      " [0.]\n",
      " [0.]\n",
      " [0.]]\n"
     ]
    }
   ],
   "source": [
    "layer = Layer(3, 4)"
   ]
  },
  {
   "cell_type": "code",
   "execution_count": 157,
   "metadata": {},
   "outputs": [
    {
     "name": "stdout",
     "output_type": "stream",
     "text": [
      "[[1 0 1 0]\n",
      " [1 1 1 0]]\n",
      "[0 1 0 0]\n"
     ]
    }
   ],
   "source": [
    "ds = CreateDataset()\n",
    "X_size = 4\n",
    "X = ds.create_X(X_size)\n",
    "print(X)\n",
    "Y = ds.create_Y(X)\n",
    "print(Y)"
   ]
  },
  {
   "cell_type": "code",
   "execution_count": 150,
   "metadata": {},
   "outputs": [
    {
     "name": "stdout",
     "output_type": "stream",
     "text": [
      "[[0 1 1 0]\n",
      " [1 0 1 1]]\n",
      "<class 'numpy.ndarray'>\n",
      "[1 1 2 1]\n",
      "[False False  True False]\n",
      "[1 1 0 1]\n"
     ]
    }
   ],
   "source": [
    "X_size = 4\n",
    "X = np.random.randint(2, size=(2,X_size))\n",
    "print(X)\n",
    "print(type(X))\n",
    "Y = np.sum(X, axis=0)\n",
    "print(Y)\n",
    "print((Y != 1))\n",
    "Y[Y != 1] = 0\n",
    "print(Y)"
   ]
  },
  {
   "cell_type": "code",
   "execution_count": 151,
   "metadata": {
    "scrolled": true
   },
   "outputs": [
    {
     "data": {
      "text/plain": [
       "array([[0, 1, 1, 0],\n",
       "       [1, 0, 1, 1]])"
      ]
     },
     "execution_count": 151,
     "metadata": {},
     "output_type": "execute_result"
    }
   ],
   "source": [
    "test = ActivationFN()\n",
    "test.relu(X)"
   ]
  },
  {
   "cell_type": "code",
   "execution_count": 152,
   "metadata": {},
   "outputs": [
    {
     "data": {
      "text/plain": [
       "array([[0, 1, 1, 0],\n",
       "       [1, 0, 1, 1]])"
      ]
     },
     "execution_count": 152,
     "metadata": {},
     "output_type": "execute_result"
    }
   ],
   "source": [
    "test.relu(X, derivative=True)"
   ]
  },
  {
   "cell_type": "code",
   "execution_count": 153,
   "metadata": {},
   "outputs": [
    {
     "data": {
      "text/plain": [
       "array([[0.87558993, 0.93684569, 0.94847332],\n",
       "       [0.96739116, 0.23928585, 0.85061525],\n",
       "       [0.06319912, 0.46525894, 0.21063519],\n",
       "       [0.9365597 , 0.49253958, 0.06764355]])"
      ]
     },
     "execution_count": 153,
     "metadata": {},
     "output_type": "execute_result"
    }
   ],
   "source": [
    "np.random.rand(4,3)"
   ]
  },
  {
   "cell_type": "code",
   "execution_count": null,
   "metadata": {},
   "outputs": [],
   "source": []
  }
 ],
 "metadata": {
  "kernelspec": {
   "display_name": "Python 3",
   "language": "python",
   "name": "python3"
  },
  "language_info": {
   "codemirror_mode": {
    "name": "ipython",
    "version": 3
   },
   "file_extension": ".py",
   "mimetype": "text/x-python",
   "name": "python",
   "nbconvert_exporter": "python",
   "pygments_lexer": "ipython3",
   "version": "3.7.3"
  }
 },
 "nbformat": 4,
 "nbformat_minor": 2
}
